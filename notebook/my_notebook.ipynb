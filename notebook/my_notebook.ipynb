{
 "cells": [
  {
   "cell_type": "markdown",
   "id": "bf7d6c6d",
   "metadata": {},
   "source": [
    "## A test"
   ]
  },
  {
   "cell_type": "code",
   "execution_count": null,
   "id": "22a3de49",
   "metadata": {},
   "outputs": [],
   "source": [
    "from art import text2art"
   ]
  },
  {
   "cell_type": "code",
   "execution_count": null,
   "id": "df26a282",
   "metadata": {},
   "outputs": [],
   "source": [
    "txt = text2art('spiders')\n",
    "print(txt)"
   ]
  },
  {
   "cell_type": "markdown",
   "id": "7f1ff672",
   "metadata": {},
   "source": [
    "### Another test"
   ]
  },
  {
   "cell_type": "code",
   "execution_count": null,
   "id": "145a897d",
   "metadata": {},
   "outputs": [],
   "source": [
    "secret_message = 'Notebooks\\nkill\\nstructured\\nprogramming'"
   ]
  },
  {
   "cell_type": "code",
   "execution_count": null,
   "id": "035316d2",
   "metadata": {},
   "outputs": [],
   "source": [
    "print(text2art(secret_message, 'cybermedium'))"
   ]
  },
  {
   "cell_type": "markdown",
   "id": "59cd91e8",
   "metadata": {},
   "source": [
    "## That's it"
   ]
  }
 ],
 "metadata": {
  "kernelspec": {
   "display_name": "Python 3 (ipykernel)",
   "language": "python",
   "name": "python3"
  },
  "language_info": {
   "codemirror_mode": {
    "name": "ipython",
    "version": 3
   },
   "file_extension": ".py",
   "mimetype": "text/x-python",
   "name": "python",
   "nbconvert_exporter": "python",
   "pygments_lexer": "ipython3",
   "version": "3.8.0"
  }
 },
 "nbformat": 4,
 "nbformat_minor": 5
}
