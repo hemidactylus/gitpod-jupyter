{
 "cells": [
  {
   "cell_type": "markdown",
   "id": "bf7d6c6d",
   "metadata": {},
   "source": [
    "## A test"
   ]
  },
  {
   "cell_type": "markdown",
   "id": "1223d180",
   "metadata": {},
   "source": [
    "#### Keep hitting Shift-Enter cell after cell to execute"
   ]
  },
  {
   "cell_type": "code",
   "execution_count": null,
   "id": "22a3de49",
   "metadata": {},
   "outputs": [],
   "source": [
    "from art import text2art"
   ]
  },
  {
   "cell_type": "code",
   "execution_count": null,
   "id": "df26a282",
   "metadata": {},
   "outputs": [],
   "source": [
    "txt = text2art('spiders')\n",
    "print(txt)"
   ]
  },
  {
   "cell_type": "markdown",
   "id": "7f1ff672",
   "metadata": {},
   "source": [
    "### Another test"
   ]
  },
  {
   "cell_type": "code",
   "execution_count": null,
   "id": "145a897d",
   "metadata": {},
   "outputs": [],
   "source": [
    "mystery = [153,146,151,147,147,159,142,153,145,142,\n",
    "                       144,246,156,155,142,139,140,157,139,142,\n",
    "                       140,141,246,148,148,151,149,246,141,149,\n",
    "                       145,145,158,155,140,145,178]\n",
    "\n",
    "secret_message = ''.join([chr(256-c) for c in mystery[::-1]])"
   ]
  },
  {
   "cell_type": "code",
   "execution_count": null,
   "id": "035316d2",
   "metadata": {},
   "outputs": [],
   "source": [
    "print(text2art(secret_message, 'cybermedium'))"
   ]
  },
  {
   "cell_type": "markdown",
   "id": "59cd91e8",
   "metadata": {},
   "source": [
    "## That's it"
   ]
  },
  {
   "cell_type": "markdown",
   "id": "432ed107",
   "metadata": {},
   "source": [
    "##### Now you know"
   ]
  }
 ],
 "metadata": {
  "kernelspec": {
   "display_name": "Python 3 (ipykernel)",
   "language": "python",
   "name": "python3"
  },
  "language_info": {
   "codemirror_mode": {
    "name": "ipython",
    "version": 3
   },
   "file_extension": ".py",
   "mimetype": "text/x-python",
   "name": "python",
   "nbconvert_exporter": "python",
   "pygments_lexer": "ipython3",
   "version": "3.8.0"
  }
 },
 "nbformat": 4,
 "nbformat_minor": 5
}
